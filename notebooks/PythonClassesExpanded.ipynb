{
 "cells": [
  {
   "cell_type": "code",
   "execution_count": 11,
   "id": "ef4b1bb3",
   "metadata": {},
   "outputs": [],
   "source": [
    "import random\n",
    "\n",
    "class disease:\n",
    "    \n",
    "    @property\n",
    "    def name(self):\n",
    "        return \"No Disease.\"\n",
    "    \n",
    "    @property\n",
    "    def symptoms(self):\n",
    "        return ['Healthy.', 'Disease Free.']\n",
    "    \n",
    "    @property\n",
    "    def message_from_doctor(self):\n",
    "        return f'Congratulations you have {self.name} with {self.symptoms}'\n",
    "    \n",
    "class rabies(disease):\n",
    "    @property\n",
    "    def name(self):\n",
    "        return \"Rabies\"\n",
    "    \n",
    "    @property\n",
    "    def symptoms(self):\n",
    "        return ['mouth foam']\n",
    "\n",
    "diseases = [rabies, disease]\n",
    "\n",
    "class person:\n",
    "   \n",
    "    def __init__(self, height, weight, first_name, last_name, age):\n",
    "        self.height = height\n",
    "        self.weight = weight\n",
    "        self.first_name = first_name\n",
    "        self.last_name = last_name\n",
    "        self.age = age\n",
    "        self.death = random.randint(1,120)\n",
    "        self.disease_onset = random.randint(1,80)\n",
    "        self._disease = random.choice(diseases)\n",
    "        self.disease = self._disease()\n",
    "        \n",
    "    def have_birthday(self):\n",
    "        self.age+=1\n",
    "        print(f'Happy Birthday {self.full_name}! You turned {self.age}')\n",
    "        \n",
    "    def legal_name_change(self, new_first_name=None, new_last_name=None):\n",
    "        if new_first_name is not None:\n",
    "            self.first_name = new_first_name\n",
    "        if new_last_name is not None:\n",
    "            self.last_name = new_last_name\n",
    "            \n",
    "    @property\n",
    "    def full_name(self):\n",
    "        return f'{self.first_name} {self.last_name}'\n",
    "    \n",
    "    \n",
    "    \n",
    "    @property\n",
    "    def health(self):\n",
    "        if self.age >= self.death:\n",
    "            return \"Grim Reaper!\"\n",
    "    \n",
    "        elif self.age<25:\n",
    "            return \"Great!\"\n",
    "        elif self.age>=25 and self.age<40:\n",
    "            return \"Good!\"\n",
    "        elif self.age>=40 and self.age<60:\n",
    "            return \"Bad!\"\n",
    "        else:\n",
    "            return \"Really Bad!\"\n",
    "        \n",
    "        \n",
    "class ben_button(person):\n",
    "    def have_birthday(self):\n",
    "        self.age-=1\n",
    "        print(f'Happy Birthday {self.full_name}! You turned {self.age}')  \n",
    "    "
   ]
  },
  {
   "cell_type": "code",
   "execution_count": 12,
   "id": "3a74beaf",
   "metadata": {},
   "outputs": [
    {
     "name": "stdout",
     "output_type": "stream",
     "text": [
      "Rabies ['mouth foam']\n"
     ]
    }
   ],
   "source": [
    "d = rabies()\n",
    "print(d.name, d.symptoms)"
   ]
  },
  {
   "cell_type": "code",
   "execution_count": 13,
   "id": "94843209",
   "metadata": {},
   "outputs": [
    {
     "data": {
      "text/plain": [
       "\"Congratulations you have Rabies with ['mouth foam']\""
      ]
     },
     "execution_count": 13,
     "metadata": {},
     "output_type": "execute_result"
    }
   ],
   "source": [
    "d.message_from_doctor"
   ]
  },
  {
   "cell_type": "code",
   "execution_count": 19,
   "id": "5570ae12",
   "metadata": {},
   "outputs": [],
   "source": [
    "fred = person(height=20, weight=100, first_name='fredrick', last_name='wick', age=10)"
   ]
  },
  {
   "cell_type": "code",
   "execution_count": null,
   "id": "f6881e76",
   "metadata": {},
   "outputs": [],
   "source": []
  },
  {
   "cell_type": "code",
   "execution_count": 21,
   "id": "9ba99069",
   "metadata": {},
   "outputs": [
    {
     "data": {
      "text/plain": [
       "'Rabies'"
      ]
     },
     "execution_count": 21,
     "metadata": {},
     "output_type": "execute_result"
    }
   ],
   "source": [
    "fred.disease.name\n"
   ]
  },
  {
   "cell_type": "code",
   "execution_count": 22,
   "id": "916b7cdf",
   "metadata": {},
   "outputs": [
    {
     "data": {
      "text/plain": [
       "\"Congratulations you have Rabies with ['mouth foam']\""
      ]
     },
     "execution_count": 22,
     "metadata": {},
     "output_type": "execute_result"
    }
   ],
   "source": [
    "fred.disease.message_from_doctor"
   ]
  },
  {
   "cell_type": "code",
   "execution_count": null,
   "id": "88c12b63",
   "metadata": {},
   "outputs": [],
   "source": []
  }
 ],
 "metadata": {
  "kernelspec": {
   "display_name": "Python 3 (ipykernel)",
   "language": "python",
   "name": "python3"
  },
  "language_info": {
   "codemirror_mode": {
    "name": "ipython",
    "version": 3
   },
   "file_extension": ".py",
   "mimetype": "text/x-python",
   "name": "python",
   "nbconvert_exporter": "python",
   "pygments_lexer": "ipython3",
   "version": "3.9.7"
  }
 },
 "nbformat": 4,
 "nbformat_minor": 5
}
