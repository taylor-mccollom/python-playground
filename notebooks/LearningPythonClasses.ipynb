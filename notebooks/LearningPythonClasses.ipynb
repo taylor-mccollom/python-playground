{
 "cells": [
  {
   "cell_type": "code",
   "execution_count": 65,
   "id": "768b141f",
   "metadata": {},
   "outputs": [],
   "source": [
    "class person():\n",
    "    \n",
    "    def __init__(self, height, weight, first_name, last_name, age):\n",
    "        self.height = height\n",
    "        self.weight = weight\n",
    "        self.first_name = first_name\n",
    "        self.last_name = last_name\n",
    "        self.age = age\n",
    "        \n",
    "    def have_birthday(self):\n",
    "        self.age+=1\n",
    "        print(f'Happy Birthday {self.full_name}! You turnded {self.age}')\n",
    "        \n",
    "    def legal_name_change(self, new_first_name=None, new_last_name=None):\n",
    "        if new_first_name is not None:\n",
    "            self.first_name = new_first_name\n",
    "        if new_last_name is not None:\n",
    "            self.last_name = new_last_name\n",
    "            \n",
    "    @property\n",
    "    def full_name(self):\n",
    "        return f'{self.first_name} {self.last_name}'\n",
    "        \n",
    "        "
   ]
  },
  {
   "cell_type": "code",
   "execution_count": 66,
   "id": "fa282235",
   "metadata": {},
   "outputs": [],
   "source": [
    "fred = person(height=20, weight=100, first_name='fredrick', last_name='wick', age=10)"
   ]
  },
  {
   "cell_type": "code",
   "execution_count": 67,
   "id": "3b1298d9",
   "metadata": {},
   "outputs": [
    {
     "data": {
      "text/plain": [
       "20"
      ]
     },
     "execution_count": 67,
     "metadata": {},
     "output_type": "execute_result"
    }
   ],
   "source": [
    "fred.height"
   ]
  },
  {
   "cell_type": "code",
   "execution_count": 68,
   "id": "9b7f2960",
   "metadata": {},
   "outputs": [
    {
     "data": {
      "text/plain": [
       "'fredrick'"
      ]
     },
     "execution_count": 68,
     "metadata": {},
     "output_type": "execute_result"
    }
   ],
   "source": [
    "fred.first_name"
   ]
  },
  {
   "cell_type": "code",
   "execution_count": 69,
   "id": "41594334",
   "metadata": {},
   "outputs": [
    {
     "data": {
      "text/plain": [
       "'wick'"
      ]
     },
     "execution_count": 69,
     "metadata": {},
     "output_type": "execute_result"
    }
   ],
   "source": [
    "fred.last_name"
   ]
  },
  {
   "cell_type": "code",
   "execution_count": 70,
   "id": "b06471bf",
   "metadata": {},
   "outputs": [
    {
     "data": {
      "text/plain": [
       "'fredrick wick'"
      ]
     },
     "execution_count": 70,
     "metadata": {},
     "output_type": "execute_result"
    }
   ],
   "source": [
    "fred.full_name"
   ]
  },
  {
   "cell_type": "code",
   "execution_count": 71,
   "id": "d87d9d96",
   "metadata": {},
   "outputs": [
    {
     "data": {
      "text/plain": [
       "10"
      ]
     },
     "execution_count": 71,
     "metadata": {},
     "output_type": "execute_result"
    }
   ],
   "source": [
    "fred.age"
   ]
  },
  {
   "cell_type": "code",
   "execution_count": 72,
   "id": "f9363804",
   "metadata": {},
   "outputs": [
    {
     "name": "stdout",
     "output_type": "stream",
     "text": [
      "Happy Birthday fredrick wick! You turnded 11\n"
     ]
    }
   ],
   "source": [
    "fred.have_birthday()"
   ]
  },
  {
   "cell_type": "code",
   "execution_count": 73,
   "id": "e13f467d",
   "metadata": {},
   "outputs": [
    {
     "data": {
      "text/plain": [
       "11"
      ]
     },
     "execution_count": 73,
     "metadata": {},
     "output_type": "execute_result"
    }
   ],
   "source": [
    "fred.age"
   ]
  },
  {
   "cell_type": "code",
   "execution_count": 74,
   "id": "87444024",
   "metadata": {},
   "outputs": [],
   "source": [
    "fred.legal_name_change(new_first_name='rachel')"
   ]
  },
  {
   "cell_type": "code",
   "execution_count": 75,
   "id": "9179ac03",
   "metadata": {},
   "outputs": [
    {
     "data": {
      "text/plain": [
       "'rachel'"
      ]
     },
     "execution_count": 75,
     "metadata": {},
     "output_type": "execute_result"
    }
   ],
   "source": [
    "fred.first_name"
   ]
  },
  {
   "cell_type": "code",
   "execution_count": 76,
   "id": "6580983e",
   "metadata": {},
   "outputs": [
    {
     "data": {
      "text/plain": [
       "'rachel wick'"
      ]
     },
     "execution_count": 76,
     "metadata": {},
     "output_type": "execute_result"
    }
   ],
   "source": [
    "fred.full_name"
   ]
  },
  {
   "cell_type": "code",
   "execution_count": null,
   "id": "f44c7c17",
   "metadata": {},
   "outputs": [],
   "source": []
  }
 ],
 "metadata": {
  "kernelspec": {
   "display_name": "Python 3 (ipykernel)",
   "language": "python",
   "name": "python3"
  },
  "language_info": {
   "codemirror_mode": {
    "name": "ipython",
    "version": 3
   },
   "file_extension": ".py",
   "mimetype": "text/x-python",
   "name": "python",
   "nbconvert_exporter": "python",
   "pygments_lexer": "ipython3",
   "version": "3.9.7"
  }
 },
 "nbformat": 4,
 "nbformat_minor": 5
}
