{
 "cells": [
  {
   "cell_type": "code",
   "execution_count": 161,
   "id": "3649f9de",
   "metadata": {},
   "outputs": [],
   "source": [
    "import random\n",
    "\n",
    "class person:\n",
    "   \n",
    "    def __init__(self, height, weight, first_name, last_name, age):\n",
    "        self.height = height\n",
    "        self.weight = weight\n",
    "        self.first_name = first_name\n",
    "        self.last_name = last_name\n",
    "        self.age = age\n",
    "        self.death = random.randint(1,120)\n",
    "        \n",
    "    def have_birthday(self):\n",
    "        self.age+=1\n",
    "        print(f'Happy Birthday {self.full_name}! You turned {self.age}')\n",
    "        \n",
    "    def legal_name_change(self, new_first_name=None, new_last_name=None):\n",
    "        if new_first_name is not None:\n",
    "            self.first_name = new_first_name\n",
    "        if new_last_name is not None:\n",
    "            self.last_name = new_last_name\n",
    "            \n",
    "    @property\n",
    "    def full_name(self):\n",
    "        return f'{self.first_name} {self.last_name}'\n",
    "    \n",
    "    @property\n",
    "    def health(self):\n",
    "        if self.age >= self.death:\n",
    "            return \"Grim Reaper!\"\n",
    "    \n",
    "        elif self.age<25:\n",
    "            return \"Great!\"\n",
    "        elif self.age>=25 and self.age<40:\n",
    "            return \"Good!\"\n",
    "        elif self.age>=40 and self.age<60:\n",
    "            return \"Bad!\"\n",
    "        else:\n",
    "            return \"Really Bad!\"\n",
    "        \n",
    "        \n",
    "class ben_button(person):\n",
    "    def have_birthday(self):\n",
    "        self.age-=1\n",
    "        print(f'Happy Birthday {self.full_name}! You turned {self.age}')  \n",
    "    "
   ]
  },
  {
   "cell_type": "code",
   "execution_count": 162,
   "id": "119e3838",
   "metadata": {},
   "outputs": [],
   "source": [
    "fred = person(height=20, weight=100, first_name='fredrick', last_name='wick', age=10)"
   ]
  },
  {
   "cell_type": "code",
   "execution_count": 163,
   "id": "88d13839",
   "metadata": {},
   "outputs": [
    {
     "data": {
      "text/plain": [
       "20"
      ]
     },
     "execution_count": 163,
     "metadata": {},
     "output_type": "execute_result"
    }
   ],
   "source": [
    "fred.height"
   ]
  },
  {
   "cell_type": "code",
   "execution_count": 164,
   "id": "fb6b5bbe",
   "metadata": {},
   "outputs": [
    {
     "data": {
      "text/plain": [
       "'fredrick'"
      ]
     },
     "execution_count": 164,
     "metadata": {},
     "output_type": "execute_result"
    }
   ],
   "source": [
    "fred.first_name"
   ]
  },
  {
   "cell_type": "code",
   "execution_count": 165,
   "id": "0bf46eac",
   "metadata": {},
   "outputs": [
    {
     "data": {
      "text/plain": [
       "'wick'"
      ]
     },
     "execution_count": 165,
     "metadata": {},
     "output_type": "execute_result"
    }
   ],
   "source": [
    "fred.last_name"
   ]
  },
  {
   "cell_type": "code",
   "execution_count": 166,
   "id": "d48917e2",
   "metadata": {},
   "outputs": [
    {
     "data": {
      "text/plain": [
       "'fredrick wick'"
      ]
     },
     "execution_count": 166,
     "metadata": {},
     "output_type": "execute_result"
    }
   ],
   "source": [
    "fred.full_name"
   ]
  },
  {
   "cell_type": "code",
   "execution_count": 167,
   "id": "a5ee1eee",
   "metadata": {},
   "outputs": [
    {
     "data": {
      "text/plain": [
       "10"
      ]
     },
     "execution_count": 167,
     "metadata": {},
     "output_type": "execute_result"
    }
   ],
   "source": [
    "fred.age"
   ]
  },
  {
   "cell_type": "code",
   "execution_count": 168,
   "id": "8f33d10c",
   "metadata": {},
   "outputs": [
    {
     "name": "stdout",
     "output_type": "stream",
     "text": [
      "Happy Birthday fredrick wick! You turned 11\n"
     ]
    }
   ],
   "source": [
    "fred.have_birthday()"
   ]
  },
  {
   "cell_type": "code",
   "execution_count": 169,
   "id": "04e74ef6",
   "metadata": {},
   "outputs": [
    {
     "data": {
      "text/plain": [
       "11"
      ]
     },
     "execution_count": 169,
     "metadata": {},
     "output_type": "execute_result"
    }
   ],
   "source": [
    "fred.age"
   ]
  },
  {
   "cell_type": "code",
   "execution_count": 170,
   "id": "79e64dce",
   "metadata": {},
   "outputs": [],
   "source": [
    "fred.legal_name_change(new_first_name='rachel')"
   ]
  },
  {
   "cell_type": "code",
   "execution_count": 171,
   "id": "e2504283",
   "metadata": {},
   "outputs": [
    {
     "data": {
      "text/plain": [
       "'rachel'"
      ]
     },
     "execution_count": 171,
     "metadata": {},
     "output_type": "execute_result"
    }
   ],
   "source": [
    "fred.first_name"
   ]
  },
  {
   "cell_type": "code",
   "execution_count": 172,
   "id": "ff55582a",
   "metadata": {},
   "outputs": [
    {
     "data": {
      "text/plain": [
       "'rachel wick'"
      ]
     },
     "execution_count": 172,
     "metadata": {},
     "output_type": "execute_result"
    }
   ],
   "source": [
    "fred.full_name"
   ]
  },
  {
   "cell_type": "code",
   "execution_count": 173,
   "id": "5d3bd7d0",
   "metadata": {},
   "outputs": [
    {
     "data": {
      "text/plain": [
       "'Great!'"
      ]
     },
     "execution_count": 173,
     "metadata": {},
     "output_type": "execute_result"
    }
   ],
   "source": [
    "fred.health"
   ]
  },
  {
   "cell_type": "code",
   "execution_count": 174,
   "id": "41061654",
   "metadata": {},
   "outputs": [
    {
     "name": "stdout",
     "output_type": "stream",
     "text": [
      "Happy Birthday rachel wick! You turned 12\n",
      "Great!\n",
      "Happy Birthday rachel wick! You turned 13\n",
      "Great!\n",
      "Happy Birthday rachel wick! You turned 14\n",
      "Great!\n",
      "Happy Birthday rachel wick! You turned 15\n",
      "Great!\n",
      "Happy Birthday rachel wick! You turned 16\n",
      "Grim Reaper!\n",
      "Happy Birthday rachel wick! You turned 17\n",
      "Grim Reaper!\n",
      "Happy Birthday rachel wick! You turned 18\n",
      "Grim Reaper!\n",
      "Happy Birthday rachel wick! You turned 19\n",
      "Grim Reaper!\n",
      "Happy Birthday rachel wick! You turned 20\n",
      "Grim Reaper!\n",
      "Happy Birthday rachel wick! You turned 21\n",
      "Grim Reaper!\n",
      "Happy Birthday rachel wick! You turned 22\n",
      "Grim Reaper!\n",
      "Happy Birthday rachel wick! You turned 23\n",
      "Grim Reaper!\n",
      "Happy Birthday rachel wick! You turned 24\n",
      "Grim Reaper!\n",
      "Happy Birthday rachel wick! You turned 25\n",
      "Grim Reaper!\n",
      "Happy Birthday rachel wick! You turned 26\n",
      "Grim Reaper!\n",
      "Happy Birthday rachel wick! You turned 27\n",
      "Grim Reaper!\n",
      "Happy Birthday rachel wick! You turned 28\n",
      "Grim Reaper!\n",
      "Happy Birthday rachel wick! You turned 29\n",
      "Grim Reaper!\n",
      "Happy Birthday rachel wick! You turned 30\n",
      "Grim Reaper!\n",
      "Happy Birthday rachel wick! You turned 31\n",
      "Grim Reaper!\n",
      "Happy Birthday rachel wick! You turned 32\n",
      "Grim Reaper!\n",
      "Happy Birthday rachel wick! You turned 33\n",
      "Grim Reaper!\n",
      "Happy Birthday rachel wick! You turned 34\n",
      "Grim Reaper!\n",
      "Happy Birthday rachel wick! You turned 35\n",
      "Grim Reaper!\n",
      "Happy Birthday rachel wick! You turned 36\n",
      "Grim Reaper!\n",
      "Happy Birthday rachel wick! You turned 37\n",
      "Grim Reaper!\n",
      "Happy Birthday rachel wick! You turned 38\n",
      "Grim Reaper!\n",
      "Happy Birthday rachel wick! You turned 39\n",
      "Grim Reaper!\n",
      "Happy Birthday rachel wick! You turned 40\n",
      "Grim Reaper!\n",
      "Happy Birthday rachel wick! You turned 41\n",
      "Grim Reaper!\n",
      "Happy Birthday rachel wick! You turned 42\n",
      "Grim Reaper!\n",
      "Happy Birthday rachel wick! You turned 43\n",
      "Grim Reaper!\n",
      "Happy Birthday rachel wick! You turned 44\n",
      "Grim Reaper!\n",
      "Happy Birthday rachel wick! You turned 45\n",
      "Grim Reaper!\n",
      "Happy Birthday rachel wick! You turned 46\n",
      "Grim Reaper!\n",
      "Happy Birthday rachel wick! You turned 47\n",
      "Grim Reaper!\n",
      "Happy Birthday rachel wick! You turned 48\n",
      "Grim Reaper!\n",
      "Happy Birthday rachel wick! You turned 49\n",
      "Grim Reaper!\n",
      "Happy Birthday rachel wick! You turned 50\n",
      "Grim Reaper!\n",
      "Happy Birthday rachel wick! You turned 51\n",
      "Grim Reaper!\n",
      "Happy Birthday rachel wick! You turned 52\n",
      "Grim Reaper!\n",
      "Happy Birthday rachel wick! You turned 53\n",
      "Grim Reaper!\n",
      "Happy Birthday rachel wick! You turned 54\n",
      "Grim Reaper!\n",
      "Happy Birthday rachel wick! You turned 55\n",
      "Grim Reaper!\n",
      "Happy Birthday rachel wick! You turned 56\n",
      "Grim Reaper!\n",
      "Happy Birthday rachel wick! You turned 57\n",
      "Grim Reaper!\n",
      "Happy Birthday rachel wick! You turned 58\n",
      "Grim Reaper!\n",
      "Happy Birthday rachel wick! You turned 59\n",
      "Grim Reaper!\n",
      "Happy Birthday rachel wick! You turned 60\n",
      "Grim Reaper!\n",
      "Happy Birthday rachel wick! You turned 61\n",
      "Grim Reaper!\n",
      "Happy Birthday rachel wick! You turned 62\n",
      "Grim Reaper!\n",
      "Happy Birthday rachel wick! You turned 63\n",
      "Grim Reaper!\n",
      "Happy Birthday rachel wick! You turned 64\n",
      "Grim Reaper!\n",
      "Happy Birthday rachel wick! You turned 65\n",
      "Grim Reaper!\n",
      "Happy Birthday rachel wick! You turned 66\n",
      "Grim Reaper!\n",
      "Happy Birthday rachel wick! You turned 67\n",
      "Grim Reaper!\n",
      "Happy Birthday rachel wick! You turned 68\n",
      "Grim Reaper!\n",
      "Happy Birthday rachel wick! You turned 69\n",
      "Grim Reaper!\n",
      "Happy Birthday rachel wick! You turned 70\n",
      "Grim Reaper!\n",
      "Happy Birthday rachel wick! You turned 71\n",
      "Grim Reaper!\n",
      "Happy Birthday rachel wick! You turned 72\n",
      "Grim Reaper!\n",
      "Happy Birthday rachel wick! You turned 73\n",
      "Grim Reaper!\n",
      "Happy Birthday rachel wick! You turned 74\n",
      "Grim Reaper!\n",
      "Happy Birthday rachel wick! You turned 75\n",
      "Grim Reaper!\n",
      "Happy Birthday rachel wick! You turned 76\n",
      "Grim Reaper!\n",
      "Happy Birthday rachel wick! You turned 77\n",
      "Grim Reaper!\n",
      "Happy Birthday rachel wick! You turned 78\n",
      "Grim Reaper!\n",
      "Happy Birthday rachel wick! You turned 79\n",
      "Grim Reaper!\n",
      "Happy Birthday rachel wick! You turned 80\n",
      "Grim Reaper!\n",
      "Happy Birthday rachel wick! You turned 81\n",
      "Grim Reaper!\n",
      "Happy Birthday rachel wick! You turned 82\n",
      "Grim Reaper!\n",
      "Happy Birthday rachel wick! You turned 83\n",
      "Grim Reaper!\n",
      "Happy Birthday rachel wick! You turned 84\n",
      "Grim Reaper!\n",
      "Happy Birthday rachel wick! You turned 85\n",
      "Grim Reaper!\n",
      "Happy Birthday rachel wick! You turned 86\n",
      "Grim Reaper!\n",
      "Happy Birthday rachel wick! You turned 87\n",
      "Grim Reaper!\n",
      "Happy Birthday rachel wick! You turned 88\n",
      "Grim Reaper!\n",
      "Happy Birthday rachel wick! You turned 89\n",
      "Grim Reaper!\n",
      "Happy Birthday rachel wick! You turned 90\n",
      "Grim Reaper!\n",
      "Happy Birthday rachel wick! You turned 91\n",
      "Grim Reaper!\n",
      "Happy Birthday rachel wick! You turned 92\n",
      "Grim Reaper!\n",
      "Happy Birthday rachel wick! You turned 93\n",
      "Grim Reaper!\n",
      "Happy Birthday rachel wick! You turned 94\n",
      "Grim Reaper!\n",
      "Happy Birthday rachel wick! You turned 95\n",
      "Grim Reaper!\n",
      "Happy Birthday rachel wick! You turned 96\n",
      "Grim Reaper!\n",
      "Happy Birthday rachel wick! You turned 97\n",
      "Grim Reaper!\n",
      "Happy Birthday rachel wick! You turned 98\n",
      "Grim Reaper!\n",
      "Happy Birthday rachel wick! You turned 99\n",
      "Grim Reaper!\n",
      "Happy Birthday rachel wick! You turned 100\n",
      "Grim Reaper!\n",
      "Happy Birthday rachel wick! You turned 101\n",
      "Grim Reaper!\n"
     ]
    }
   ],
   "source": [
    "for i in range(90):\n",
    "    fred.have_birthday()\n",
    "    print(fred.health)"
   ]
  },
  {
   "cell_type": "code",
   "execution_count": 175,
   "id": "3d664ea1",
   "metadata": {},
   "outputs": [],
   "source": [
    "ben = ben_button(height=20, weight=100, first_name='Benjamin', last_name='Button', age=117)"
   ]
  },
  {
   "cell_type": "code",
   "execution_count": 177,
   "id": "c47422ae",
   "metadata": {},
   "outputs": [
    {
     "name": "stdout",
     "output_type": "stream",
     "text": [
      "Happy Birthday Benjamin Button! You turned 36\n",
      "Good!\n",
      "Happy Birthday Benjamin Button! You turned 35\n",
      "Good!\n",
      "Happy Birthday Benjamin Button! You turned 34\n",
      "Good!\n",
      "Happy Birthday Benjamin Button! You turned 33\n",
      "Good!\n",
      "Happy Birthday Benjamin Button! You turned 32\n",
      "Good!\n",
      "Happy Birthday Benjamin Button! You turned 31\n",
      "Good!\n",
      "Happy Birthday Benjamin Button! You turned 30\n",
      "Good!\n",
      "Happy Birthday Benjamin Button! You turned 29\n",
      "Good!\n",
      "Happy Birthday Benjamin Button! You turned 28\n",
      "Good!\n",
      "Happy Birthday Benjamin Button! You turned 27\n",
      "Good!\n",
      "Happy Birthday Benjamin Button! You turned 26\n",
      "Good!\n",
      "Happy Birthday Benjamin Button! You turned 25\n",
      "Good!\n",
      "Happy Birthday Benjamin Button! You turned 24\n",
      "Great!\n",
      "Happy Birthday Benjamin Button! You turned 23\n",
      "Great!\n",
      "Happy Birthday Benjamin Button! You turned 22\n",
      "Great!\n",
      "Happy Birthday Benjamin Button! You turned 21\n",
      "Great!\n",
      "Happy Birthday Benjamin Button! You turned 20\n",
      "Great!\n",
      "Happy Birthday Benjamin Button! You turned 19\n",
      "Great!\n",
      "Happy Birthday Benjamin Button! You turned 18\n",
      "Great!\n",
      "Happy Birthday Benjamin Button! You turned 17\n",
      "Great!\n",
      "Happy Birthday Benjamin Button! You turned 16\n",
      "Great!\n",
      "Happy Birthday Benjamin Button! You turned 15\n",
      "Great!\n",
      "Happy Birthday Benjamin Button! You turned 14\n",
      "Great!\n",
      "Happy Birthday Benjamin Button! You turned 13\n",
      "Great!\n",
      "Happy Birthday Benjamin Button! You turned 12\n",
      "Great!\n",
      "Happy Birthday Benjamin Button! You turned 11\n",
      "Great!\n",
      "Happy Birthday Benjamin Button! You turned 10\n",
      "Great!\n",
      "Happy Birthday Benjamin Button! You turned 9\n",
      "Great!\n",
      "Happy Birthday Benjamin Button! You turned 8\n",
      "Great!\n",
      "Happy Birthday Benjamin Button! You turned 7\n",
      "Great!\n",
      "Happy Birthday Benjamin Button! You turned 6\n",
      "Great!\n",
      "Happy Birthday Benjamin Button! You turned 5\n",
      "Great!\n",
      "Happy Birthday Benjamin Button! You turned 4\n",
      "Great!\n",
      "Happy Birthday Benjamin Button! You turned 3\n",
      "Great!\n",
      "Happy Birthday Benjamin Button! You turned 2\n",
      "Great!\n",
      "Happy Birthday Benjamin Button! You turned 1\n",
      "Great!\n",
      "Happy Birthday Benjamin Button! You turned 0\n",
      "Great!\n",
      "Happy Birthday Benjamin Button! You turned -1\n",
      "Great!\n",
      "Happy Birthday Benjamin Button! You turned -2\n",
      "Great!\n",
      "Happy Birthday Benjamin Button! You turned -3\n",
      "Great!\n",
      "Happy Birthday Benjamin Button! You turned -4\n",
      "Great!\n",
      "Happy Birthday Benjamin Button! You turned -5\n",
      "Great!\n",
      "Happy Birthday Benjamin Button! You turned -6\n",
      "Great!\n",
      "Happy Birthday Benjamin Button! You turned -7\n",
      "Great!\n",
      "Happy Birthday Benjamin Button! You turned -8\n",
      "Great!\n",
      "Happy Birthday Benjamin Button! You turned -9\n",
      "Great!\n",
      "Happy Birthday Benjamin Button! You turned -10\n",
      "Great!\n",
      "Happy Birthday Benjamin Button! You turned -11\n",
      "Great!\n",
      "Happy Birthday Benjamin Button! You turned -12\n",
      "Great!\n",
      "Happy Birthday Benjamin Button! You turned -13\n",
      "Great!\n",
      "Happy Birthday Benjamin Button! You turned -14\n",
      "Great!\n",
      "Happy Birthday Benjamin Button! You turned -15\n",
      "Great!\n",
      "Happy Birthday Benjamin Button! You turned -16\n",
      "Great!\n",
      "Happy Birthday Benjamin Button! You turned -17\n",
      "Great!\n",
      "Happy Birthday Benjamin Button! You turned -18\n",
      "Great!\n",
      "Happy Birthday Benjamin Button! You turned -19\n",
      "Great!\n",
      "Happy Birthday Benjamin Button! You turned -20\n",
      "Great!\n",
      "Happy Birthday Benjamin Button! You turned -21\n",
      "Great!\n",
      "Happy Birthday Benjamin Button! You turned -22\n",
      "Great!\n",
      "Happy Birthday Benjamin Button! You turned -23\n",
      "Great!\n",
      "Happy Birthday Benjamin Button! You turned -24\n",
      "Great!\n",
      "Happy Birthday Benjamin Button! You turned -25\n",
      "Great!\n",
      "Happy Birthday Benjamin Button! You turned -26\n",
      "Great!\n",
      "Happy Birthday Benjamin Button! You turned -27\n",
      "Great!\n",
      "Happy Birthday Benjamin Button! You turned -28\n",
      "Great!\n",
      "Happy Birthday Benjamin Button! You turned -29\n",
      "Great!\n",
      "Happy Birthday Benjamin Button! You turned -30\n",
      "Great!\n",
      "Happy Birthday Benjamin Button! You turned -31\n",
      "Great!\n",
      "Happy Birthday Benjamin Button! You turned -32\n",
      "Great!\n",
      "Happy Birthday Benjamin Button! You turned -33\n",
      "Great!\n",
      "Happy Birthday Benjamin Button! You turned -34\n",
      "Great!\n",
      "Happy Birthday Benjamin Button! You turned -35\n",
      "Great!\n",
      "Happy Birthday Benjamin Button! You turned -36\n",
      "Great!\n",
      "Happy Birthday Benjamin Button! You turned -37\n",
      "Great!\n",
      "Happy Birthday Benjamin Button! You turned -38\n",
      "Great!\n",
      "Happy Birthday Benjamin Button! You turned -39\n",
      "Great!\n",
      "Happy Birthday Benjamin Button! You turned -40\n",
      "Great!\n",
      "Happy Birthday Benjamin Button! You turned -41\n",
      "Great!\n",
      "Happy Birthday Benjamin Button! You turned -42\n",
      "Great!\n",
      "Happy Birthday Benjamin Button! You turned -43\n",
      "Great!\n",
      "Happy Birthday Benjamin Button! You turned -44\n",
      "Great!\n",
      "Happy Birthday Benjamin Button! You turned -45\n",
      "Great!\n",
      "Happy Birthday Benjamin Button! You turned -46\n",
      "Great!\n",
      "Happy Birthday Benjamin Button! You turned -47\n",
      "Great!\n",
      "Happy Birthday Benjamin Button! You turned -48\n",
      "Great!\n",
      "Happy Birthday Benjamin Button! You turned -49\n",
      "Great!\n",
      "Happy Birthday Benjamin Button! You turned -50\n",
      "Great!\n",
      "Happy Birthday Benjamin Button! You turned -51\n",
      "Great!\n",
      "Happy Birthday Benjamin Button! You turned -52\n",
      "Great!\n",
      "Happy Birthday Benjamin Button! You turned -53\n",
      "Great!\n",
      "Happy Birthday Benjamin Button! You turned -54\n",
      "Great!\n",
      "Happy Birthday Benjamin Button! You turned -55\n",
      "Great!\n",
      "Happy Birthday Benjamin Button! You turned -56\n",
      "Great!\n",
      "Happy Birthday Benjamin Button! You turned -57\n",
      "Great!\n",
      "Happy Birthday Benjamin Button! You turned -58\n",
      "Great!\n"
     ]
    }
   ],
   "source": [
    "for i in range(95):\n",
    "    ben.have_birthday()\n",
    "    print(ben.health)"
   ]
  },
  {
   "cell_type": "code",
   "execution_count": null,
   "id": "9cc8b571",
   "metadata": {},
   "outputs": [],
   "source": []
  }
 ],
 "metadata": {
  "kernelspec": {
   "display_name": "Python 3 (ipykernel)",
   "language": "python",
   "name": "python3"
  },
  "language_info": {
   "codemirror_mode": {
    "name": "ipython",
    "version": 3
   },
   "file_extension": ".py",
   "mimetype": "text/x-python",
   "name": "python",
   "nbconvert_exporter": "python",
   "pygments_lexer": "ipython3",
   "version": "3.9.7"
  }
 },
 "nbformat": 4,
 "nbformat_minor": 5
}
